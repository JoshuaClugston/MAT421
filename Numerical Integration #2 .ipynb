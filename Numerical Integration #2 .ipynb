{
 "cells": [
  {
   "cell_type": "code",
   "execution_count": 3,
   "id": "29c17a30",
   "metadata": {},
   "outputs": [],
   "source": [
    "import numpy as np\n",
    "from scipy import integrate\n",
    "from scipy.interpolate import lagrange"
   ]
  },
  {
   "cell_type": "markdown",
   "id": "19676388",
   "metadata": {},
   "source": [
    "## 1. Numerical approximation of integrals using rectangles, trapezoids, or Simpson's rule\n",
    "Write a function `my_int_calc(f,f0,a,b,N,option)`, where `f` is a function object, `a` and `b` are scalars such that $a<b$, `N` is a positive integer, and `option` is the string `'rect'`, `'trap'`, or `'simp'`. Let `x` be an array starting at $a$, ending at $b$, and containing $N$ evenly spaced elements. The output argument, `I`, should be an approximation to the integral of $f(x)$, with initital condition `f0`, according to the input argument, `option`.  "
   ]
  },
  {
   "cell_type": "code",
   "execution_count": 45,
   "id": "4d9dfecc",
   "metadata": {},
   "outputs": [],
   "source": [
    "def my_int_calc(f,f0,a,b,N,option):\n",
    "    \n",
    "    if N <= 0:\n",
    "        raise ValueError('N must be a positive integer')\n",
    "    elif isinstance(N, int) != True:\n",
    "        raise ValueError('N must be of type int')\n",
    "        \n",
    "    if a < b:\n",
    "        a = a\n",
    "        b = b\n",
    "    else:            # change order of a and b otherwise\n",
    "        a = a + b\n",
    "        b = a - b\n",
    "        a = a - b\n",
    "        \n",
    "    if isinstance(a, int) != True:\n",
    "        raise ValueError('a must be of type int')\n",
    "    elif isinstance(b, int) != True:\n",
    "        raise ValueError('b must be of type int')\n",
    "    \n",
    "    x = np.linspace(a,b,N)\n",
    "    \n",
    "    if option == \"rect\":\n",
    "        return f\n",
    "    if option == \"trap\":\n",
    "        return f\n",
    "    if option == \"simp\":\n",
    "        return f\n",
    "    else: \n",
    "        raise ValueError('option must be of type string: \"rect\", \"trap\", or \"simp\"')"
   ]
  },
  {
   "cell_type": "markdown",
   "id": "0d1ee4ae",
   "metadata": {},
   "source": [
    "**Test cases:**"
   ]
  },
  {
   "cell_type": "code",
   "execution_count": 46,
   "id": "c4623f96",
   "metadata": {},
   "outputs": [],
   "source": [
    "f = lambda x: x**2\n",
    "\n",
    "rect_sol = my_int_calc(f, 1, 0, 3, 7, 'rect')\n",
    "\n",
    "trap_sol = my_int_calc(f, 1, 0, 3, 7, 'trap')\n",
    "\n",
    "simp_sol = my_int_calc(f, 1, 0, 3, 7, 'simp')"
   ]
  },
  {
   "cell_type": "markdown",
   "id": "1f63f0d7",
   "metadata": {},
   "source": [
    "## 2. Numerical integration using Lagrange polynomial interpolation\n",
    "Write a function `my_poly_int(x,y)`, where `x` and `y` are one-dimensional arrays of the same size, and the elements of `x` are unique and in ascending order. The functions `my_poly_int` should (1) compute the Lagrange polynomial going through all the points defined by `x` and `y`, and (2) return an approximation of the area under the curve defined by `x` and `y`, `I`, defined as the analytic integral of the Lagrange interpolating polynomial. "
   ]
  },
  {
   "cell_type": "code",
   "execution_count": 47,
   "id": "f4947927",
   "metadata": {},
   "outputs": [],
   "source": [
    "def my_poly_int(x,y,a,b):\n",
    "    \n",
    "    if len(x) != len(y):\n",
    "        raise Exception(\"x and y must be the same length\")\n",
    "    \n",
    "    # compute the Lagrange polynomial\n",
    "    \n",
    "    f = lagrange(x,y)\n",
    "    \n",
    "    # compute the integral \n",
    "\n",
    "    I = integrate.quad(f,a,b)\n",
    "    \n",
    "    return I[0]\n",
    "    "
   ]
  },
  {
   "cell_type": "markdown",
   "id": "4bc02ac3",
   "metadata": {},
   "source": [
    "We will attempt to find the area under the curve of the function \n",
    "$$f(x) = -\\frac{1}{3}x^{3} + \\frac{1}{3}x^{2} + \\frac{17}{6}x + 3$$\n",
    "on the interval $[0,4]$. \n",
    "\n",
    "Notice that $f\\in C^{0}([0,4])$, as $f$ is a polynomial. Thus, $f$ is integrable on $[0,4]$, so by the Fundamental Theorem of Calculus \n",
    "\\begin{alignat*}{3}\n",
    "\\int_{0}^{4}f(x)\\ dx &= \\int_{0}^{4}-\\frac{1}{3}x^{3} + \\frac{1}{3}x^{2} + \\frac{17}{6}x + 3\\ dx\\\\\n",
    "&= \\frac{184}{9}.\n",
    "\\end{alignat*}\n",
    "We will use this result to compare the solution of our Python function `my_poly_int` by computing the absolute error in our method. "
   ]
  },
  {
   "cell_type": "code",
   "execution_count": 48,
   "id": "2d851bb9",
   "metadata": {},
   "outputs": [
    {
     "name": "stdout",
     "output_type": "stream",
     "text": [
      "Approximation using function is: 24.000000000000007\n",
      "Exact solution is:  20.444444444444443\n",
      "Absolute error in method is: 3.5555555555555642\n"
     ]
    }
   ],
   "source": [
    "from decimal import Decimal\n",
    "\n",
    "x = [0, 1, 2, 3, 4]\n",
    "y = [3, 6, 8, 7, 1]\n",
    "\n",
    "app_sol = my_poly_int(x,y,0,4)\n",
    "ex_sol = 184.0/9.0\n",
    "\n",
    "print(\"Approximation using function is:\", app_sol)\n",
    "print(\"Exact solution is: \", ex_sol)\n",
    "print(\"Absolute error in method is:\", np.abs(ex_sol - app_sol))"
   ]
  },
  {
   "cell_type": "markdown",
   "id": "357ddf97",
   "metadata": {},
   "source": [
    "As we can see, there is a fairly large amount of error in the above method. "
   ]
  },
  {
   "cell_type": "code",
   "execution_count": null,
   "id": "ed60d9b6",
   "metadata": {},
   "outputs": [],
   "source": []
  }
 ],
 "metadata": {
  "kernelspec": {
   "display_name": "Python 3 (ipykernel)",
   "language": "python",
   "name": "python3"
  },
  "language_info": {
   "codemirror_mode": {
    "name": "ipython",
    "version": 3
   },
   "file_extension": ".py",
   "mimetype": "text/x-python",
   "name": "python",
   "nbconvert_exporter": "python",
   "pygments_lexer": "ipython3",
   "version": "3.9.6"
  }
 },
 "nbformat": 4,
 "nbformat_minor": 5
}
