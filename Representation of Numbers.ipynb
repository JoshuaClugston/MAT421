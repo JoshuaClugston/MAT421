{
 "cells": [
  {
   "cell_type": "markdown",
   "id": "652bc50d",
   "metadata": {},
   "source": [
    "## Exercises"
   ]
  },
  {
   "cell_type": "markdown",
   "id": "3078c7c2",
   "metadata": {},
   "source": [
    "The function bin_2_dec(b) takes b, a binary number represented by a list of ones and zeros as input, and outputs d, a decimal number. The last element of b represents the coefficient of $2^{0}$, the second-to-last element of b represents the coefficient of $2^{1}$, and so on."
   ]
  },
  {
   "cell_type": "code",
   "execution_count": 392,
   "id": "873e5793",
   "metadata": {},
   "outputs": [],
   "source": [
    "def bin_2_dec(b):\n",
    "    d = 0\n",
    "    for i, n in zip(reversed(range(len(b))), b):\n",
    "        d += n*2**i\n",
    "    return d"
   ]
  },
  {
   "cell_type": "code",
   "execution_count": 393,
   "id": "b3661fde",
   "metadata": {},
   "outputs": [
    {
     "data": {
      "text/plain": [
       "7"
      ]
     },
     "execution_count": 393,
     "metadata": {},
     "output_type": "execute_result"
    }
   ],
   "source": [
    "# Output: 7 \n",
    "bin_2_dec([1, 1, 1])"
   ]
  },
  {
   "cell_type": "code",
   "execution_count": 394,
   "id": "71170934",
   "metadata": {},
   "outputs": [
    {
     "data": {
      "text/plain": [
       "85"
      ]
     },
     "execution_count": 394,
     "metadata": {},
     "output_type": "execute_result"
    }
   ],
   "source": [
    "# Output: 85\n",
    "bin_2_dec([1, 0, 1, 0, 1, 0, 1])"
   ]
  },
  {
   "cell_type": "code",
   "execution_count": 395,
   "id": "d3241e87",
   "metadata": {},
   "outputs": [
    {
     "data": {
      "text/plain": [
       "33554431"
      ]
     },
     "execution_count": 395,
     "metadata": {},
     "output_type": "execute_result"
    }
   ],
   "source": [
    "# Output: 33554431\n",
    "bin_2_dec([1]*25)"
   ]
  },
  {
   "cell_type": "markdown",
   "id": "5624d164",
   "metadata": {},
   "source": [
    "The function dec_2_bin(d), where d is a positive integer in decimal, returns b - the binary representation of d. The output is a list of 1s and 0s, and the leading term is always a 1 unless the decimal input value is 0. \"dec_2_bin\" first checks if the input value d is 0. If d is 0, then b returns a list comprised of a single zero. Otherwise, we iterate from d to 1 as follows: add item value modulo 2 to list, then floor divide iterated value until 1 or 0 is reached. Lastly, since we start at d and iterate toward 1, we reverse the list and then return it.  "
   ]
  },
  {
   "cell_type": "code",
   "execution_count": 10,
   "id": "8c204026",
   "metadata": {},
   "outputs": [],
   "source": [
    "def dec_2_bin(d):\n",
    "    b = [] \n",
    "    if d == 0:\n",
    "        b.append(0)\n",
    "    else:\n",
    "        while d >= 1:\n",
    "            b.append(d%2)\n",
    "            d = d//2 \n",
    "    b.reverse()\n",
    "    return b"
   ]
  },
  {
   "cell_type": "code",
   "execution_count": 63,
   "id": "92e03c17",
   "metadata": {},
   "outputs": [
    {
     "data": {
      "text/plain": [
       "[0]"
      ]
     },
     "execution_count": 63,
     "metadata": {},
     "output_type": "execute_result"
    }
   ],
   "source": [
    "# Output: [0]\n",
    "dec_2_bin(0)"
   ]
  },
  {
   "cell_type": "code",
   "execution_count": 55,
   "id": "fd250d8b",
   "metadata": {},
   "outputs": [
    {
     "data": {
      "text/plain": [
       "[1, 0, 1, 1, 1]"
      ]
     },
     "execution_count": 55,
     "metadata": {},
     "output_type": "execute_result"
    }
   ],
   "source": [
    "# Output: [1, 0, 1, 1, 1]\n",
    "dec_2_bin(23)"
   ]
  },
  {
   "cell_type": "code",
   "execution_count": 56,
   "id": "29266e3f",
   "metadata": {},
   "outputs": [
    {
     "data": {
      "text/plain": [
       "[1, 0, 0, 0, 0, 0, 1, 1, 0, 0, 0, 1]"
      ]
     },
     "execution_count": 56,
     "metadata": {},
     "output_type": "execute_result"
    }
   ],
   "source": [
    "# Output: [1, 0, 0, 0, 0, 0, 1, 1, 0, 0, 0, 1]\n",
    "dec_2_bin(2097)"
   ]
  },
  {
   "cell_type": "markdown",
   "id": "ae377a64",
   "metadata": {},
   "source": [
    "Test to see if we can convert back to binary from decimal, then convert back to decimal:"
   ]
  },
  {
   "cell_type": "code",
   "execution_count": 396,
   "id": "bf32dbac",
   "metadata": {},
   "outputs": [
    {
     "name": "stdout",
     "output_type": "stream",
     "text": [
      "12654\n"
     ]
    }
   ],
   "source": [
    "#should print 12654\n",
    "print(bin_2_dec(dec_2_bin(12654)))"
   ]
  },
  {
   "cell_type": "markdown",
   "id": "ecca44cb",
   "metadata": {},
   "source": [
    "Note: the test above ensures that both dec_2_bin and bin_2_dec are as general as possible. "
   ]
  },
  {
   "cell_type": "markdown",
   "id": "7ff97eba",
   "metadata": {},
   "source": [
    "The function ieee_to_dec(ieee), takes a string of 1s and 0s as input and produces a decimal number, d, as output. In particular, d is the equivalent decimal representation of ieee. The input variable ieee in the test cases are 64-element strings of ones and zeros defining a 64-bit float. We implement the algorithm to compute $d = (-1)^{s}2^{e}(1+f)$ by getting each of the elements, $s$, $e$, and $f$ iteratively, then by storing their values and computing the above formula in the last step the function performs. "
   ]
  },
  {
   "cell_type": "code",
   "execution_count": 119,
   "id": "af9f0043",
   "metadata": {},
   "outputs": [],
   "source": [
    "def ieee_to_dec(ieee):\n",
    "    # Write your function here\n",
    "    ieee_to_string = str(ieee)\n",
    "    \n",
    "    #first get the sign\n",
    "    \n",
    "    for i in ieee_to_string:\n",
    "        if ieee_to_string.index('1'):\n",
    "            s = 0 #sign value\n",
    "            #print(s)\n",
    "            break\n",
    "        else: \n",
    "            s = 1 #sign value\n",
    "            #print(s)\n",
    "            break   \n",
    "    \n",
    "    #next get the exponent\n",
    "    g = 0\n",
    "    \n",
    "    for m, k in zip(reversed(range(1,len(ieee_to_string[1:12]))), ieee_to_string[1:12]):\n",
    "        #print(m,k)\n",
    "        if k == '1':\n",
    "            g += 2**m\n",
    "            r = g\n",
    "        else:\n",
    "            pass\n",
    "        \n",
    "    #lastly get the mantissa\n",
    "        \n",
    "    for j, n in zip(range(1,len(ieee_to_string[12::])),ieee_to_string[12::]):\n",
    "        if n == '1':\n",
    "            q = (1/2**j)\n",
    "            b = int(n) \n",
    "        else:\n",
    "            pass\n",
    "        \n",
    "    #put everything together and perform the computation    \n",
    "    e = r - 1023 #compute exponent value   \n",
    "    f = b*q #compute mantissa value \n",
    "    \n",
    "    d = (-1)**s*2**e*(1+f)\n",
    "        \n",
    "    return d"
   ]
  },
  {
   "cell_type": "code",
   "execution_count": 120,
   "id": "d536a186",
   "metadata": {},
   "outputs": [
    {
     "data": {
      "text/plain": [
       "-48.0"
      ]
     },
     "execution_count": 120,
     "metadata": {},
     "output_type": "execute_result"
    }
   ],
   "source": [
    "# Output: -48\n",
    "ieee = '1100000001001000000000000000000000000000000000000000000000000000'\n",
    "ieee_to_dec(ieee)"
   ]
  },
  {
   "cell_type": "code",
   "execution_count": 121,
   "id": "981b4b3c",
   "metadata": {},
   "outputs": [
    {
     "data": {
      "text/plain": [
       "2.000000000000001"
      ]
     },
     "execution_count": 121,
     "metadata": {},
     "output_type": "execute_result"
    }
   ],
   "source": [
    "# Output: 3.39999999999999991118215802999\n",
    "ieee = '0100000000001011001100110011001100110011001100110011001100110011'\n",
    "ieee_to_dec(ieee)"
   ]
  },
  {
   "cell_type": "markdown",
   "id": "b8e55716",
   "metadata": {},
   "source": [
    "Note: the above function ieee_to_dec appears to work for the first test value, but in the second case the value does not output as expected. This is suspected to be a result of error in the computation, specifically with the method that was implemented to compute the expected output, as this output was anticipated to be a rational number (i.e., a number with a fractional part). Additionally, it appears that the primary source of error in the second case is a consequence of the amount of total interations preformed. Ultimately, this entails that there is more error being produced as the loop continues through all values of the input string during the last step, where we attempt to obtain the mantissa for our final computation. "
   ]
  },
  {
   "cell_type": "markdown",
   "id": "070cf9c2",
   "metadata": {},
   "source": [
    "The following determines the smallest number so that the gap (that is, the distance from some number to the next) is 1:"
   ]
  },
  {
   "cell_type": "code",
   "execution_count": 1,
   "id": "d28d2dd4",
   "metadata": {},
   "outputs": [
    {
     "name": "stdout",
     "output_type": "stream",
     "text": [
      "2.220446049250313e-16\n"
     ]
    },
    {
     "data": {
      "text/plain": [
       "True"
      ]
     },
     "execution_count": 1,
     "metadata": {},
     "output_type": "execute_result"
    }
   ],
   "source": [
    "import numpy as np\n",
    "\n",
    "print(np.spacing(1))\n",
    "np.spacing(1) == np.finfo(np.float64).eps"
   ]
  },
  {
   "cell_type": "markdown",
   "id": "c47e08e7",
   "metadata": {},
   "source": [
    "## Final Comments on The Above Exercises"
   ]
  },
  {
   "cell_type": "markdown",
   "id": "ba1d3a7e",
   "metadata": {},
   "source": [
    "We have seen that there are many advantages to using binary numbers over decimal for computing purposes. For instance, we observed that binary representation of decimal numbers is an efficient way to communicate relatively large numbers in a compact way. Although, we may also infer that there are some disadvantages to using binary numbers over decimal. Specifically, this is demonstrated for large computations which require many steps and when we need a number representation of something which may not be exactly an integer. "
   ]
  },
  {
   "cell_type": "markdown",
   "id": "4e0ce337",
   "metadata": {},
   "source": [
    "For review, it is an interesting exercise to consider what might happen if we consider a binary number of length ten, and what might be the highest decimal number possible that we can count to in this instance. If we have a binary number of length ten in the form $1111111111$ and we want to convert the number to base 10 (as this will provide the highest possible decimal number value in the base $n$ system), then we obtain \n",
    "$$2^{9} + 2^{8} + 2^{7} + \\cdots +  2^{0} = 1023$$\n",
    "or more generally we will get\n",
    "$$2^{n} - 1$$\n",
    "for $n$ in the length of the binary string, as the highest possible number received from a binary number of length ten. \n",
    "\n",
    "In addition to the above example, consider the number 13 in base 10. Suppose we want to convert this number to base 1 so that\n",
    "$$13\\ \\text{base 10} = 1111111111111\\ (\\text{base 1}),$$\n",
    "where we are writing a tick mark (represented symbolically by a 1 in this instance) to demonstrate the 13's conversion to base 1.\n",
    "\n",
    "Further suppose we wanted to multiply $1111111111111\\ (\\text{base 1})$ with another number in base 1, or even possibly add this number with another in the base 1 number sytem. For the former, notice that multiplication of this number with 2 (base 1) is\n",
    "\\begin{equation*}1111111111\\times 11 = 11111111111111111111111111, \\hspace{2cm} (1)\\end{equation*}\n",
    "which is accomplished by appending the additional tick marks (1s) at the end of our original number. Notice, when converting the number in (1) back to base 10 we obtain $26\\ \\text{(base 10)}$, thus confirming our result. Furthermore, for the latter if we consider 1 (base 1), then addition with our original 13 (base 1) number would be performed such that \n",
    "$$1111111111111 + 1 = 11111111111111\\ (\\text{base 1}).$$\n",
    "Then, converting back to base 10 we observe this number to be $14\\ (\\text{base 10})$ - confirming our result again. "
   ]
  },
  {
   "cell_type": "code",
   "execution_count": null,
   "id": "3847c1a7",
   "metadata": {},
   "outputs": [],
   "source": []
  }
 ],
 "metadata": {
  "kernelspec": {
   "display_name": "Python 3 (ipykernel)",
   "language": "python",
   "name": "python3"
  },
  "language_info": {
   "codemirror_mode": {
    "name": "ipython",
    "version": 3
   },
   "file_extension": ".py",
   "mimetype": "text/x-python",
   "name": "python",
   "nbconvert_exporter": "python",
   "pygments_lexer": "ipython3",
   "version": "3.9.6"
  }
 },
 "nbformat": 4,
 "nbformat_minor": 5
}
