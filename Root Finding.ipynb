{
 "cells": [
  {
   "cell_type": "code",
   "execution_count": 18,
   "id": "dfaea551",
   "metadata": {},
   "outputs": [],
   "source": [
    "import numpy as np"
   ]
  },
  {
   "cell_type": "markdown",
   "id": "ab7a5e91",
   "metadata": {},
   "source": [
    "# 1. Bisection Method "
   ]
  },
  {
   "cell_type": "markdown",
   "id": "d6cbf748",
   "metadata": {},
   "source": [
    "Below we write a function, `bisection(f,a,b,tol)` that returns two arrays, `R` and `E`, which contain tolerance and error, respectively. The function takes in an object `f`, defined before the function call, scalars `a` and `b` such that $a<b$ , and strictly positive number `tol`. We ensure that all assumptions for the bisection to be met are check by the function before the function returns the root.  "
   ]
  },
  {
   "cell_type": "code",
   "execution_count": 127,
   "id": "241e8db7",
   "metadata": {},
   "outputs": [],
   "source": [
    "def bisection(f,a,b,tol):\n",
    "    \n",
    "    if np.sign(f(a)) == np.sign(f(b)):\n",
    "        raise Exception( \"there is not a root in [a,b]\")\n",
    "        \n",
    "    if tol > 0:\n",
    "        tol = tol\n",
    "    else: \n",
    "        raise Exception( \"tol must be positive\")\n",
    "    \n",
    "    if a < b:\n",
    "        a = a\n",
    "        b = b\n",
    "    else:            # change order of a and b otherwise\n",
    "        a = a + b\n",
    "        b = a - b\n",
    "        a = a - b\n",
    "        \n",
    "    n = int(np.ceil(math.log((b-a)/tol)/(math.log(2)))) # specifies number of iterations based on tolerance\n",
    "    \n",
    "    R = [0]*n # initalize R array\n",
    "    E = [0]*n # initalize E array\n",
    "    \n",
    "    for i in range(0,n+1): \n",
    "        R[i] = (a+b)/2\n",
    "        E[i] = np.abs(f(R[i])) \n",
    "        if E[i] < tol:       \n",
    "            break\n",
    "        elif E[i] == 0:\n",
    "            m = R[i]\n",
    "        elif np.sign(f(R[i]))==np.sign(f(a)):\n",
    "            a = R[i]\n",
    "        elif np.sign(f(R[i]))==np.sign(f(b)):\n",
    "            b = R[i] \n",
    "            \n",
    "    print(\"R =\", R)\n",
    "    print(\"E = \", E)\n",
    "    return [R,E] "
   ]
  },
  {
   "cell_type": "markdown",
   "id": "72005086",
   "metadata": {},
   "source": [
    "**Test Cases:**"
   ]
  },
  {
   "cell_type": "code",
   "execution_count": 128,
   "id": "d7c9290e",
   "metadata": {},
   "outputs": [
    {
     "name": "stdout",
     "output_type": "stream",
     "text": [
      "R = [1.0, 1.5, 1.25, 1.375, 1.4375]\n",
      "E =  [1.0, 0.25, 0.4375, 0.109375, 0.06640625]\n"
     ]
    }
   ],
   "source": [
    "f = lambda x: x**2 - 2\n",
    "[R,E] = bisection(f, 0, 2, 1e-1)\n",
    "\n",
    "# R = [1, 1.5, 1.25, 1.375, 1.4375]\n",
    "# E = [1, 0.25, 0.4375, 0.109375, 0.06640625]"
   ]
  },
  {
   "cell_type": "code",
   "execution_count": 129,
   "id": "60664f01",
   "metadata": {},
   "outputs": [
    {
     "name": "stdout",
     "output_type": "stream",
     "text": [
      "R = [1.0, 0.5, 0.75, 0.875, 0.8125, 0.78125, 0, 0]\n",
      "E =  [0.30116867893975674, 0.39815702328616975, 0.05005010885048666, 0.12654664407270177, 0.038323093040207645, 0.005866372111545948, 0, 0]\n"
     ]
    }
   ],
   "source": [
    "f = lambda x: np.sin(x) - np.cos(x)\n",
    "[R,E] = bisection(f, 0, 2, 1e-2)\n",
    "\n",
    "# R = [1, 0.5, 0.75, 0.875, 0.8125, 0.78125]\n",
    "# E = [0.30116867893975674, 0.39815702328616975, 0.05005010885048666, \\\n",
    "# 0.12654664407270177, 0.038323093040207645, 0.005866372111545948]"
   ]
  },
  {
   "cell_type": "markdown",
   "id": "53d1e7e2",
   "metadata": {},
   "source": [
    "# 2. Newton-Raphson Method"
   ]
  },
  {
   "cell_type": "markdown",
   "id": "d527ac30",
   "metadata": {},
   "source": [
    "The `my_newton(f,df,x0,tol)`, much like in the previous example, returns two arrays lists `R` and `E` containing the root and error estimates, respectively. We again assign as input `f` as a function object defined before the fnuction can be call, `df` as the derivative of `f` which must also be defined before the function call, `x0` as input, specified initial estimate of he root we provide, and again `tol`, which is strictly positive in this instance as well."
   ]
  },
  {
   "cell_type": "code",
   "execution_count": 130,
   "id": "e693d31b",
   "metadata": {},
   "outputs": [],
   "source": [
    "def newton(f,dx,x0,tol):\n",
    "    \n",
    "    if tol > 0:\n",
    "        tol = tol\n",
    "    else: \n",
    "        raise Exception( \"tol must be positive\")\n",
    "    \n",
    "    R = [] # intialize R list\n",
    "    E = [] # initialize E list\n",
    "    \n",
    "    R.append(x0) \n",
    "    E.append(np.abs(f(R[-1]))) \n",
    "    \n",
    "    i = 0 # initialize index \n",
    "    \n",
    "    while i < 100:\n",
    "        x0 = R[-1] # gets last item in list \n",
    "        R.append(x0 - f(x0)/df(x0))\n",
    "        E.append(np.abs(f(R[-1])))\n",
    "        if E[i] < tol:\n",
    "            break\n",
    "        i += 1\n",
    "            \n",
    "    print(\"R =\", R)\n",
    "    print(\"E = \", E)\n",
    "    return [R,E]"
   ]
  },
  {
   "cell_type": "markdown",
   "id": "b6ae350c",
   "metadata": {},
   "source": [
    "**Test Cases:**"
   ]
  },
  {
   "cell_type": "code",
   "execution_count": 131,
   "id": "5946a70c",
   "metadata": {},
   "outputs": [
    {
     "name": "stdout",
     "output_type": "stream",
     "text": [
      "R = [1, 1.5, 1.4166666666666667, 1.4142156862745099, 1.4142135623746899]\n",
      "E =  [1, 0.25, 0.006944444444444642, 6.007304882871267e-06, 4.510614104447086e-12]\n"
     ]
    }
   ],
   "source": [
    "f = lambda x: x**2 - 2\n",
    "df = lambda x: 2*x\n",
    "[R, E] = newton(f, df, 1, 1e-5)\n",
    "\n",
    "# R = [1, 1.5, 1.4166666666666667, 1.4142156862745099]\n",
    "# E = [1, 0.25, 0.006944444444444642, 6.007304882871267e-06]"
   ]
  },
  {
   "cell_type": "code",
   "execution_count": 132,
   "id": "40b859b2",
   "metadata": {},
   "outputs": [
    {
     "name": "stdout",
     "output_type": "stream",
     "text": [
      "R = [1, 0.782041901539138, 0.7853981759997019, 0.7853981633974483]\n",
      "E =  [0.30116867893975674, 0.004746462127804163, 1.7822277875723103e-08, 1.1102230246251565e-16]\n"
     ]
    }
   ],
   "source": [
    "f = lambda x: np.sin(x) - np.cos(x)\n",
    "df = lambda x: np.cos(x) + np.sin(x)\n",
    "[R, E] = newton(f, df, 1, 1e-5)\n",
    "\n",
    "\n",
    "# Out: R = [1, 0.782041901539138, 0.7853981759997019]\n",
    "# E = [0.30116867893975674, 0.004746462127804163, 1.7822277875723103e-08]"
   ]
  }
 ],
 "metadata": {
  "kernelspec": {
   "display_name": "Python 3 (ipykernel)",
   "language": "python",
   "name": "python3"
  },
  "language_info": {
   "codemirror_mode": {
    "name": "ipython",
    "version": 3
   },
   "file_extension": ".py",
   "mimetype": "text/x-python",
   "name": "python",
   "nbconvert_exporter": "python",
   "pygments_lexer": "ipython3",
   "version": "3.9.6"
  }
 },
 "nbformat": 4,
 "nbformat_minor": 5
}
