{
 "cells": [
  {
   "cell_type": "code",
   "execution_count": 2,
   "id": "c0cc2810",
   "metadata": {},
   "outputs": [],
   "source": [
    "import numpy as np\n",
    "import sympy \n",
    "import matplotlib.pyplot as plt"
   ]
  },
  {
   "cell_type": "markdown",
   "id": "3c9dc451",
   "metadata": {},
   "source": [
    "# 1. Linear Independence"
   ]
  },
  {
   "cell_type": "markdown",
   "id": "61e7b7e1",
   "metadata": {},
   "source": [
    "Below we write a function `linear_dep_test` which tests for linear dependence of a square matrix by using determinants. In particular, we assume that the matrix is $4\\times 4$ and contains integers values only. "
   ]
  },
  {
   "cell_type": "code",
   "execution_count": 115,
   "id": "3f400b94",
   "metadata": {},
   "outputs": [
    {
     "name": "stdout",
     "output_type": "stream",
     "text": [
      "B = \n",
      " [[407 420 778 472]\n",
      " [318 773 876 459]\n",
      " [653 793 484 403]\n",
      " [917  45 385  95]]\n",
      "\n",
      " determinant of B is:  62422193856\n",
      "\n",
      " u, v, w, and z are linearly independent\n"
     ]
    }
   ],
   "source": [
    "u_vec = np.random.randint(1,1000,4)\n",
    "v_vec = np.random.randint(1,1000,4)\n",
    "w_vec = np.random.randint(1,1000,4)\n",
    "z_vec = np.random.randint(1,1000,4)\n",
    "\n",
    "def linear_dep_test(u_vec,v_vec,w_vec,z_vec):\n",
    "    \n",
    "    B = np.row_stack([u_vec, v_vec, w_vec, z_vec])\n",
    "    print('B = \\n', B)\n",
    "    \n",
    "    rows = len(B)\n",
    "    columns = len(B[0])\n",
    "    \n",
    "    if rows != columns:\n",
    "        raise Exception('B must be square')\n",
    "        \n",
    "    if rows != 4:\n",
    "        raise Exception('Dimension of B must be 4')\n",
    "    \n",
    "    det = np.linalg.det(B)\n",
    "    \n",
    "    print('\\n determinant of B is: ', int(det))\n",
    "    \n",
    "    if int(det) == 0:\n",
    "        print('\\n u, v, w, and z are linearly dependent')\n",
    "    else:\n",
    "        print('\\n u, v, w, and z are linearly independent') \n",
    "\n",
    "linear_dep_test(u_vec,v_vec,w_vec,z_vec)"
   ]
  },
  {
   "cell_type": "markdown",
   "id": "62fb8141",
   "metadata": {},
   "source": [
    "# 2. Linear Regression "
   ]
  },
  {
   "cell_type": "markdown",
   "id": "5702a27f",
   "metadata": {},
   "source": [
    "We display an example of simple linear regrassion using sample data obtained from https://people.sc.fsu.edu/~jburkardt/datasets/regression/x03.txt. Specifically, we use the first 16 points to perform one-dimensional linear regression, where the x-values correspond to age of participant, and each y-value corresponds to the blood pressure of the respective x-value. It should be noted that this set is not reflective of the whole data set, as there were a total of 30 points in total from the original data set. "
   ]
  },
  {
   "cell_type": "code",
   "execution_count": 8,
   "id": "3924f026",
   "metadata": {},
   "outputs": [
    {
     "data": {
      "image/png": "[encoded data removed]",
      "text/plain": [
       "<Figure size 720x360 with 1 Axes>"
      ]
     },
     "metadata": {
      "needs_background": "light"
     },
     "output_type": "display_data"
    },
    {
     "name": "stdout",
     "output_type": "stream",
     "text": [
      "Correlation Coefficient:  0.4631695042319622\n",
      "Coefficient of Determination:  0.21452598965048164\n"
     ]
    }
   ],
   "source": [
    "x = np.array([39,47,45,47,65,46,67,42,67,56,64,56,59,34,42,48]) # reshape accordingly\n",
    "y = np.array([144,220,138,145,162,142,170,124,158,154,162,150,140,110,128,130]) # corresponds to blood pressure\n",
    "    \n",
    "x_mean = sum(x)/len(x)\n",
    "y_mean = sum(y)/len(y)\n",
    "    \n",
    "beta_1 = sum((x-x_mean)*(y-y_mean))/sum((x-x_mean)**2)\n",
    "    \n",
    "beta_0 = y_mean - (beta_1*x_mean)\n",
    "    \n",
    "def coerr_coeff(x,y):\n",
    "    \n",
    "    # compute Pearson's coerrelation coefficient\n",
    "    \n",
    "    n = len(x)\n",
    "    \n",
    "    coeff = (n*sum(x*y) - sum(x)*(sum(y)))/(np.sqrt( (n*sum(x**2) - sum(x)**2 ) * (n*sum(y**2) - sum(y)**2)))\n",
    "                                            \n",
    "    return coeff\n",
    "\n",
    "# plot results\n",
    "\n",
    "coeffs = coerr_coeff(x,y)\n",
    "plt.figure(figsize = (10,5))\n",
    "plt.plot(x,y, 'bo')\n",
    "plt.xlabel('Participant Age')\n",
    "plt.ylabel('Participant Blood Pressure')\n",
    "plt.plot(x, beta_0 + beta_1*x, 'r-')\n",
    "plt.grid()\n",
    "plt.show()\n",
    "\n",
    "print('Correlation Coefficient: ', coeffs)\n",
    "print('Coefficient of Determination: ', coeffs**2)"
   ]
  },
  {
   "cell_type": "code",
   "execution_count": null,
   "id": "394dc212",
   "metadata": {},
   "outputs": [],
   "source": []
  }
 ],
 "metadata": {
  "kernelspec": {
   "display_name": "Python 3 (ipykernel)",
   "language": "python",
   "name": "python3"
  },
  "language_info": {
   "codemirror_mode": {
    "name": "ipython",
    "version": 3
   },
   "file_extension": ".py",
   "mimetype": "text/x-python",
   "name": "python",
   "nbconvert_exporter": "python",
   "pygments_lexer": "ipython3",
   "version": "3.9.6"
  }
 },
 "nbformat": 4,
 "nbformat_minor": 5
}
